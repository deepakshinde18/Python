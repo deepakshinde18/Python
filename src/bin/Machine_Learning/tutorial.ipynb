{
 "cells": [
  {
   "cell_type": "markdown",
   "metadata": {},
   "source": [
    "# Building a clickbait classification pipeline\n",
    "\n",
    "![Clickbait](http://www.ogilvy.com/wp-content/uploads/2015/10/166_main.jpg)"
   ]
  },
  {
   "cell_type": "markdown",
   "metadata": {},
   "source": [
    "## Introduction\n",
    "\n",
    "The aim of this workshop is to walk you through the process of taking data to a production machine learning classifier for text. You'll build a classifier to detect clickbait from the article text and eventually roll out the classifier into an app.\n",
    "\n",
    "We'll be using\n",
    " - pandas for data wrangling\n",
    " - matplotlib for plotting\n",
    " - scikit-learn for feature engineering, model building, and model analysis\n",
    " - flask for building our web app\n",
    " - jupyter for getting stuff done\n",
    "\n",
    "By the end of the workshop you'll understand the steps needed to build a basic text processing pipeline."
   ]
  },
  {
   "cell_type": "markdown",
   "metadata": {},
   "source": [
    "## Loading data and wrangling\n",
    "\n",
    "You've been presented with tabular data in a `.csv` format. A natural choice for loading the data is pandas, which is based around tabular representations.\n",
    "\n",
    "We'll load in the data and get a broad overview of the data."
   ]
  },
  {
   "cell_type": "code",
   "execution_count": 25,
   "metadata": {
    "collapsed": true
   },
   "outputs": [],
   "source": [
    "import pandas as pd\n",
    "%matplotlib inline"
   ]
  },
  {
   "cell_type": "code",
   "execution_count": 26,
   "metadata": {},
   "outputs": [
    {
     "data": {
      "text/html": [
       "<div>\n",
       "<table border=\"1\" class=\"dataframe\">\n",
       "  <thead>\n",
       "    <tr style=\"text-align: right;\">\n",
       "      <th></th>\n",
       "      <th>author</th>\n",
       "      <th>description</th>\n",
       "      <th>label</th>\n",
       "      <th>publishedAt</th>\n",
       "      <th>title</th>\n",
       "    </tr>\n",
       "  </thead>\n",
       "  <tbody>\n",
       "    <tr>\n",
       "      <th>0</th>\n",
       "      <td>Julia Reinstein</td>\n",
       "      <td>Trust no man, trust no brand. (This post will ...</td>\n",
       "      <td>1</td>\n",
       "      <td>NaN</td>\n",
       "      <td>The Definitive Guide To The Best April Fools’ ...</td>\n",
       "    </tr>\n",
       "    <tr>\n",
       "      <th>1</th>\n",
       "      <td>Natalya Lobanova</td>\n",
       "      <td>Not that anyone should need convincing of thei...</td>\n",
       "      <td>1</td>\n",
       "      <td>NaN</td>\n",
       "      <td>Literally Just 19 Pictures That Prove Hedgehog...</td>\n",
       "    </tr>\n",
       "    <tr>\n",
       "      <th>2</th>\n",
       "      <td>Kat Angus, Jane Lytvynenko</td>\n",
       "      <td>You can only have one, eh?</td>\n",
       "      <td>1</td>\n",
       "      <td>NaN</td>\n",
       "      <td>\"Would You Rather\": Canadian Food Vs. Canadian...</td>\n",
       "    </tr>\n",
       "    <tr>\n",
       "      <th>3</th>\n",
       "      <td>Ben Coleman</td>\n",
       "      <td>\"It's gonna rip my eyebrow off!\"</td>\n",
       "      <td>1</td>\n",
       "      <td>NaN</td>\n",
       "      <td>Guys Try The \"Most Painful\" Face Mask</td>\n",
       "    </tr>\n",
       "    <tr>\n",
       "      <th>4</th>\n",
       "      <td>Ellie Bate</td>\n",
       "      <td>No, your hair colour won't make a difference.</td>\n",
       "      <td>1</td>\n",
       "      <td>NaN</td>\n",
       "      <td>Which \"Riverdale\" Family Do You Belong In?</td>\n",
       "    </tr>\n",
       "  </tbody>\n",
       "</table>\n",
       "</div>"
      ],
      "text/plain": [
       "                       author  \\\n",
       "0             Julia Reinstein   \n",
       "1            Natalya Lobanova   \n",
       "2  Kat Angus, Jane Lytvynenko   \n",
       "3                 Ben Coleman   \n",
       "4                  Ellie Bate   \n",
       "\n",
       "                                         description  label publishedAt  \\\n",
       "0  Trust no man, trust no brand. (This post will ...      1         NaN   \n",
       "1  Not that anyone should need convincing of thei...      1         NaN   \n",
       "2                         You can only have one, eh?      1         NaN   \n",
       "3                   \"It's gonna rip my eyebrow off!\"      1         NaN   \n",
       "4      No, your hair colour won't make a difference.      1         NaN   \n",
       "\n",
       "                                               title  \n",
       "0  The Definitive Guide To The Best April Fools’ ...  \n",
       "1  Literally Just 19 Pictures That Prove Hedgehog...  \n",
       "2  \"Would You Rather\": Canadian Food Vs. Canadian...  \n",
       "3              Guys Try The \"Most Painful\" Face Mask  \n",
       "4         Which \"Riverdale\" Family Do You Belong In?  "
      ]
     },
     "execution_count": 26,
     "metadata": {},
     "output_type": "execute_result"
    }
   ],
   "source": [
    "df = pd.read_csv(r'E:\\PythonProjects\\Python\\src\\bin\\Machine_Learning\\data\\training_data.csv')\n",
    "df.head(5)"
   ]
  },
  {
   "cell_type": "markdown",
   "metadata": {},
   "source": [
    "### Article details\n",
    "\n",
    "An article contains:\n",
    " - **author** (string) - the article author's name\n",
    " - **description** (string) - a short description of the article\n",
    " - **label** (interger) - 1=clickbait 0=not clickbait\n",
    " - **publishedAt** (string) - a timestamp for the time of publication\n",
    " - **title** (string) - the title of the article\n",
    "\n",
    "We can print the content of one article:"
   ]
  },
  {
   "cell_type": "code",
   "execution_count": 27,
   "metadata": {},
   "outputs": [
    {
     "name": "stdout",
     "output_type": "stream",
     "text": [
      "Literally Just 19 Pictures That Prove Hedgehogs Are Ridiculously Cute\n",
      "-----\n",
      "Not that anyone should need convincing of their cuteness, tbh.\n",
      "Published at: nan\n"
     ]
    }
   ],
   "source": [
    "print(df['title'][1])\n",
    "print('-----')\n",
    "print(df['description'][1])\n",
    "print('Published at:', df['publishedAt'][1])"
   ]
  },
  {
   "cell_type": "markdown",
   "metadata": {},
   "source": [
    "### Basic statistics\n",
    "\n",
    "Pandas makes it easy to inspect, plot, and transform our data. Pandas is easy to use but still has lots of functionality. When you can chain multiple functions together, you've become a pandas pro!"
   ]
  },
  {
   "cell_type": "code",
   "execution_count": 28,
   "metadata": {},
   "outputs": [
    {
     "data": {
      "text/plain": [
       "0    808\n",
       "1    557\n",
       "Name: label, dtype: int64"
      ]
     },
     "execution_count": 28,
     "metadata": {},
     "output_type": "execute_result"
    }
   ],
   "source": [
    "# Number of clickbait and non-clickbait articles\n",
    "df['label'].value_counts()"
   ]
  },
  {
   "cell_type": "code",
   "execution_count": 29,
   "metadata": {},
   "outputs": [
    {
     "data": {
      "text/plain": [
       "<matplotlib.axes._subplots.AxesSubplot at 0x2b3beeeda20>"
      ]
     },
     "execution_count": 29,
     "metadata": {},
     "output_type": "execute_result"
    },
    {
     "data": {
      "image/png": "[encoded data removed]",
      "text/plain": [
       "<matplotlib.figure.Figure at 0x2b3bd6c5cf8>"
      ]
     },
     "metadata": {},
     "output_type": "display_data"
    }
   ],
   "source": [
    "# Plotting the number of author fields that are Null\n",
    "df['author'].isnull().value_counts().plot('barh')"
   ]
  },
  {
   "cell_type": "code",
   "execution_count": 30,
   "metadata": {},
   "outputs": [
    {
     "data": {
      "text/plain": [
       "85.323076923076925"
      ]
     },
     "execution_count": 30,
     "metadata": {},
     "output_type": "execute_result"
    }
   ],
   "source": [
    "# The number of characters in the description field\n",
    "df['description'].apply(len).mean()"
   ]
  },
  {
   "cell_type": "code",
   "execution_count": 31,
   "metadata": {},
   "outputs": [
    {
     "data": {
      "text/plain": [
       "label\n",
       "0    111.623762\n",
       "1     47.170557\n",
       "Name: description, dtype: float64"
      ]
     },
     "execution_count": 31,
     "metadata": {},
     "output_type": "execute_result"
    }
   ],
   "source": [
    "# Comparing the number of description characters in clickbait to news\n",
    "df['description'].apply(len).groupby(df['label']).mean()"
   ]
  },
  {
   "cell_type": "code",
   "execution_count": 32,
   "metadata": {
    "collapsed": true
   },
   "outputs": [],
   "source": [
    "# TEST YOUR KNOWLEDGE\n",
    "# Can you write a one-liner to compute the number of clickbait articles\n",
    "# written by each author? Hint: you might find the .sum() function helpful!"
   ]
  },
  {
   "cell_type": "markdown",
   "metadata": {},
   "source": [
    "### Create the full content column"
   ]
  },
  {
   "cell_type": "code",
   "execution_count": 33,
   "metadata": {},
   "outputs": [
    {
     "data": {
      "text/html": [
       "<div>\n",
       "<table border=\"1\" class=\"dataframe\">\n",
       "  <thead>\n",
       "    <tr style=\"text-align: right;\">\n",
       "      <th></th>\n",
       "      <th>author</th>\n",
       "      <th>description</th>\n",
       "      <th>label</th>\n",
       "      <th>publishedAt</th>\n",
       "      <th>title</th>\n",
       "      <th>full_content</th>\n",
       "    </tr>\n",
       "  </thead>\n",
       "  <tbody>\n",
       "    <tr>\n",
       "      <th>0</th>\n",
       "      <td>Julia Reinstein</td>\n",
       "      <td>Trust no man, trust no brand. (This post will ...</td>\n",
       "      <td>1</td>\n",
       "      <td>NaN</td>\n",
       "      <td>The Definitive Guide To The Best April Fools’ ...</td>\n",
       "      <td>Trust no man, trust no brand. (This post will ...</td>\n",
       "    </tr>\n",
       "  </tbody>\n",
       "</table>\n",
       "</div>"
      ],
      "text/plain": [
       "            author                                        description  label  \\\n",
       "0  Julia Reinstein  Trust no man, trust no brand. (This post will ...      1   \n",
       "\n",
       "  publishedAt                                              title  \\\n",
       "0         NaN  The Definitive Guide To The Best April Fools’ ...   \n",
       "\n",
       "                                        full_content  \n",
       "0  Trust no man, trust no brand. (This post will ...  "
      ]
     },
     "execution_count": 33,
     "metadata": {},
     "output_type": "execute_result"
    }
   ],
   "source": [
    "df['full_content'] = df.description + ' ' + df.title\n",
    "df.head(1)"
   ]
  },
  {
   "cell_type": "markdown",
   "metadata": {},
   "source": [
    "Nice work - have a panda\n",
    "\n",
    "![panda](http://www.nathab.com/uploaded-files/carousels/TRIPS/Wild-China/Asia-Wild-China-4-panda.JPG)"
   ]
  },
  {
   "cell_type": "markdown",
   "metadata": {},
   "source": [
    "---\n",
    "\n",
    "# Scikit-learn text classification pipeline\n",
    "\n",
    "\n",
    "Some important terminology:\n",
    "\n",
    "<img src=\"http://tfwiki.net/mediawiki/images2/thumb/3/37/Optimusg1.jpg/350px-Optimusg1.jpg\" alt=\"optimus\" style=\"width:50px;\" align=\"left\"/> **TRANSFORMERS** - take some input data and transform it into another format. Often we want to transform textual data or image data into numerical data. We may also transform our input data into new features\n",
    "<br/>\n",
    "<br/>\n",
    "\n",
    "<img src=\"http://www.kennyskiphire.co.uk/blog/wp-content/uploads/Wheelie-Bins.jpg\" alt=\"bins\" style=\"width:70px;\" align=\"left\"/> **CLASSIFIERS** - take some input data and classify the sample by assigning a label to the input data. In binary classification we often use the labels 1 and 0.\n",
    "<br/>\n",
    "<br/>\n",
    "\n",
    "<img src=\"https://reichanjapan.files.wordpress.com/2016/02/mariogiftcard.png?w=230&h=335\" alt=\"pipe\" style=\"width:50px;\" align=\"left\"/> **PIPELINE** - consist of one or many transformer steps followed by a classifier. We can use pipelines to elegantly chain together operations and construct an easy to use interface. "
   ]
  },
  {
   "cell_type": "markdown",
   "metadata": {},
   "source": [
    "## Textual to numerical data (bag of words model) \n",
    "\n",
    "Our classifier isn't going to understand text like we can - we must create numerical data. A common approach to this is the bag of words model. \n",
    "\n",
    "For example - **Literally just 8 really really cute dogs** - transforms into the bag of words:\n",
    "\n",
    "| Token | id | Count |\n",
    "|---|---|---|\n",
    "| cute | 0 |1 |\n",
    "| dogs | 1 |1 |\n",
    "| just | 2 | 1 |\n",
    "| literally | 3 | 1 |\n",
    "| really | 4 | 2 |\n",
    "\n",
    "This is simply achieved with a scikit-learn `CountVectorizer`. There are two steps:\n",
    " - **Fit** the vectorizer, which populates all the tokens in the left hand column and assigns the numerical ids\n",
    " - **Transform** the data, which turns a sentence into it's bag of words representation\n",
    " \n",
    " Note that the bag of words representation of a sentence ignores the word order and dependencies between them."
   ]
  },
  {
   "cell_type": "code",
   "execution_count": 34,
   "metadata": {
    "collapsed": true
   },
   "outputs": [],
   "source": [
    "from sklearn.feature_extraction.text import CountVectorizer\n",
    "vectorizer = CountVectorizer()"
   ]
  },
  {
   "cell_type": "markdown",
   "metadata": {},
   "source": [
    "Fitting the `CountVectorizer` learns the vocabulary"
   ]
  },
  {
   "cell_type": "code",
   "execution_count": 35,
   "metadata": {},
   "outputs": [
    {
     "name": "stdout",
     "output_type": "stream",
     "text": [
      "{'literally': 3, 'just': 2, 'really': 4, 'cute': 0, 'dogs': 1}\n"
     ]
    }
   ],
   "source": [
    "sentence = [\"Literally just 8 really really cute dogs\"]\n",
    "vectorizer.fit(sentence)\n",
    "print(vectorizer.vocabulary_) # dictionary of words and ids"
   ]
  },
  {
   "cell_type": "markdown",
   "metadata": {},
   "source": [
    "We can then transform our textual to numerical data"
   ]
  },
  {
   "cell_type": "code",
   "execution_count": 36,
   "metadata": {},
   "outputs": [
    {
     "data": {
      "text/plain": [
       "array([[1, 1, 1, 1, 2]], dtype=int64)"
      ]
     },
     "execution_count": 36,
     "metadata": {},
     "output_type": "execute_result"
    }
   ],
   "source": [
    "vectorizer.transform(sentence).toarray()"
   ]
  },
  {
   "cell_type": "markdown",
   "metadata": {},
   "source": [
    "Note: we cannot transform textual data that is not in our learned vocabulary."
   ]
  },
  {
   "cell_type": "code",
   "execution_count": 37,
   "metadata": {},
   "outputs": [
    {
     "data": {
      "text/plain": [
       "array([[0, 1, 0, 0, 0]], dtype=int64)"
      ]
     },
     "execution_count": 37,
     "metadata": {},
     "output_type": "execute_result"
    }
   ],
   "source": [
    "sentence = [\"OMG 5 truly hilarious dogs 😂\"]\n",
    "vectorizer.transform(sentence).toarray()"
   ]
  },
  {
   "cell_type": "markdown",
   "metadata": {},
   "source": [
    "## Classifier\n",
    "\n",
    "In the classification task, we take a single example (such as an article row) and decide which class it belongs to (e.g., clickbait or not clickbait). A standard approach to classification is to find a boundary that best seperates training examples according to their class. In the binary classification problem below, we've indicated a linear boundary that separates the data pretty well. Each sample is described by the number of times that word1 and word2 occur. In reality we will have many more words associated with each sample but the concept remains the same.\n",
    "\n",
    "We determine this boundary using a Support Vector Machine. The SVM has two steps:\n",
    " - **Fit** we learn the boundary from labelled data\n",
    " - **Predict** we predict the classes of unlabelled data\n",
    "\n",
    "![classify](images/svm-classify.png)"
   ]
  },
  {
   "cell_type": "code",
   "execution_count": 38,
   "metadata": {
    "collapsed": true
   },
   "outputs": [],
   "source": [
    "from sklearn.svm import LinearSVC\n",
    "svc = LinearSVC()"
   ]
  },
  {
   "cell_type": "markdown",
   "metadata": {},
   "source": [
    "Let's make up some samples."
   ]
  },
  {
   "cell_type": "code",
   "execution_count": 39,
   "metadata": {
    "collapsed": true
   },
   "outputs": [],
   "source": [
    "bag_of_words = [\n",
    "    [1, 5], [1, 4], [2, 6], [4, 2], [3, 4], [2, 1]\n",
    "]\n",
    "labels = [1, 1, 1, 0, 0, 0]"
   ]
  },
  {
   "cell_type": "code",
   "execution_count": 40,
   "metadata": {},
   "outputs": [
    {
     "data": {
      "image/png": "[encoded data removed]",
      "text/plain": [
       "<matplotlib.figure.Figure at 0x2b3be73d748>"
      ]
     },
     "metadata": {},
     "output_type": "display_data"
    }
   ],
   "source": [
    "from utils.plotting import plot_2d_samples\n",
    "plot_2d_samples(bag_of_words, labels)"
   ]
  },
  {
   "cell_type": "markdown",
   "metadata": {},
   "source": [
    "Now we learn the boundary!"
   ]
  },
  {
   "cell_type": "code",
   "execution_count": 41,
   "metadata": {
    "collapsed": true
   },
   "outputs": [],
   "source": [
    "svc = svc.fit(bag_of_words, labels)"
   ]
  },
  {
   "cell_type": "code",
   "execution_count": 42,
   "metadata": {},
   "outputs": [
    {
     "data": {
      "image/png": "[encoded data removed]",
      "text/plain": [
       "<matplotlib.figure.Figure at 0x2b3be839278>"
      ]
     },
     "metadata": {},
     "output_type": "display_data"
    }
   ],
   "source": [
    "from utils.plotting import plot_2d_trained_svc\n",
    "plot_2d_trained_svc(bag_of_words, labels, svc)"
   ]
  },
  {
   "cell_type": "markdown",
   "metadata": {},
   "source": [
    "Once we have learned the boundary then we can predict the label of novel samples"
   ]
  },
  {
   "cell_type": "code",
   "execution_count": 43,
   "metadata": {},
   "outputs": [
    {
     "data": {
      "text/plain": [
       "array([0, 1])"
      ]
     },
     "execution_count": 43,
     "metadata": {},
     "output_type": "execute_result"
    }
   ],
   "source": [
    "svc.predict([[3, 1], [2,4]])"
   ]
  },
  {
   "cell_type": "markdown",
   "metadata": {},
   "source": [
    "## Putting it all together in a pipeline\n",
    "\n",
    "A pipeline consists of multiple transform steps and a final classification step. A pipeline is an easy way to wrap up all our transformations in one easy to use box. In general we use the following functions:\n",
    " - **Fit** to fit the transformers and classifier\n",
    " - **Predict** to transform data and predict it's label\n",
    " \n",
    "Below is a detailed schematic of the data flow in the pipeline when we call these two methods.\n",
    "\n",
    "![pipeobj](images/sklearn-pipeline.png)\n",
    "\n",
    "We'll create a pipeline with two steps:\n",
    "1. Transform textual data to a bag of words vector\n",
    "2. Predict label from the bag of words vector\n",
    "\n",
    "So the input of our pipeline is text data and the output is a label!"
   ]
  },
  {
   "cell_type": "code",
   "execution_count": 44,
   "metadata": {
    "collapsed": true
   },
   "outputs": [],
   "source": [
    "steps = (\n",
    "    ('vectorizer', CountVectorizer()),\n",
    "    ('classifier', LinearSVC())\n",
    ")"
   ]
  },
  {
   "cell_type": "code",
   "execution_count": 45,
   "metadata": {
    "collapsed": true
   },
   "outputs": [],
   "source": [
    "from sklearn.pipeline import Pipeline\n",
    "pipeline = Pipeline(steps)"
   ]
  },
  {
   "cell_type": "markdown",
   "metadata": {},
   "source": [
    "**Congratulations!** You've built your first text classification pipeline.\n",
    "![pipeygif](https://tinynin.files.wordpress.com/2012/01/warppipe-copy.gif)"
   ]
  },
  {
   "cell_type": "markdown",
   "metadata": {},
   "source": [
    "## Training our pipeline on real data\n",
    "\n",
    "Now that we know how the vectorizer and classifier work together to form a pipeline, we can train it on the real data. \n",
    "\n",
    "**Machine learning discipline 101**\n",
    " - Split your data into a training and testing set\n",
    " - NEVER look at your testing data. Hide it away. Save it for later. Lock it in a drawer!\n",
    " - Your training data helps you to fit your models and select one\n",
    " - Your testing data is used for final evaluation\n",
    " \n",
    "Scikit-learn's train and test split shuffles our data and splits it into two sets. We can also use *stratified sampling* to ensure that both sets have the same distribution of labels."
   ]
  },
  {
   "cell_type": "code",
   "execution_count": 46,
   "metadata": {
    "collapsed": true
   },
   "outputs": [],
   "source": [
    "from sklearn.model_selection import train_test_split\n",
    "training, testing = train_test_split(\n",
    "    df,                # The dataset we want to split\n",
    "    train_size=0.7,    # The proportional size of our training set\n",
    "    stratify=df.label, # The labels are used for stratification\n",
    "    random_state=400   # Use the same random state for reproducibility\n",
    ")"
   ]
  },
  {
   "cell_type": "code",
   "execution_count": 47,
   "metadata": {},
   "outputs": [
    {
     "data": {
      "text/html": [
       "<div>\n",
       "<table border=\"1\" class=\"dataframe\">\n",
       "  <thead>\n",
       "    <tr style=\"text-align: right;\">\n",
       "      <th></th>\n",
       "      <th>author</th>\n",
       "      <th>description</th>\n",
       "      <th>label</th>\n",
       "      <th>publishedAt</th>\n",
       "      <th>title</th>\n",
       "      <th>full_content</th>\n",
       "    </tr>\n",
       "  </thead>\n",
       "  <tbody>\n",
       "    <tr>\n",
       "      <th>941</th>\n",
       "      <td>NaN</td>\n",
       "      <td>The 2016 rains failed in the Horn of Africa; t...</td>\n",
       "      <td>0</td>\n",
       "      <td>2017-04-16T10:29:00Z</td>\n",
       "      <td>Will the 'Long Rains' save Somalia?</td>\n",
       "      <td>The 2016 rains failed in the Horn of Africa; t...</td>\n",
       "    </tr>\n",
       "    <tr>\n",
       "      <th>906</th>\n",
       "      <td>Steve Chao</td>\n",
       "      <td>Are pandas destined to survive only in captivity?</td>\n",
       "      <td>0</td>\n",
       "      <td>2017-04-15T07:06:36Z</td>\n",
       "      <td>Saving China's pandas</td>\n",
       "      <td>Are pandas destined to survive only in captivi...</td>\n",
       "    </tr>\n",
       "    <tr>\n",
       "      <th>1275</th>\n",
       "      <td>NaN</td>\n",
       "      <td>The landslide overturned vehicles, buried buil...</td>\n",
       "      <td>0</td>\n",
       "      <td>2017-04-02T09:29:15Z</td>\n",
       "      <td>Indonesia landslide search halted amid heavy r...</td>\n",
       "      <td>The landslide overturned vehicles, buried buil...</td>\n",
       "    </tr>\n",
       "    <tr>\n",
       "      <th>193</th>\n",
       "      <td>Susana Cristalli</td>\n",
       "      <td>It doesn't mean there's something wrong with y...</td>\n",
       "      <td>1</td>\n",
       "      <td>NaN</td>\n",
       "      <td>12 Gripes From People Who Have No Problem Doin...</td>\n",
       "      <td>It doesn't mean there's something wrong with y...</td>\n",
       "    </tr>\n",
       "    <tr>\n",
       "      <th>1195</th>\n",
       "      <td>Ylenia Gostoli</td>\n",
       "      <td>The arrest of Birzeit University student Kifah...</td>\n",
       "      <td>0</td>\n",
       "      <td>2017-04-25T09:45:09Z</td>\n",
       "      <td>How Israel denies rights to Palestinian prisoners</td>\n",
       "      <td>The arrest of Birzeit University student Kifah...</td>\n",
       "    </tr>\n",
       "  </tbody>\n",
       "</table>\n",
       "</div>"
      ],
      "text/plain": [
       "                author                                        description  \\\n",
       "941                NaN  The 2016 rains failed in the Horn of Africa; t...   \n",
       "906         Steve Chao  Are pandas destined to survive only in captivity?   \n",
       "1275               NaN  The landslide overturned vehicles, buried buil...   \n",
       "193   Susana Cristalli  It doesn't mean there's something wrong with y...   \n",
       "1195    Ylenia Gostoli  The arrest of Birzeit University student Kifah...   \n",
       "\n",
       "      label           publishedAt  \\\n",
       "941       0  2017-04-16T10:29:00Z   \n",
       "906       0  2017-04-15T07:06:36Z   \n",
       "1275      0  2017-04-02T09:29:15Z   \n",
       "193       1                   NaN   \n",
       "1195      0  2017-04-25T09:45:09Z   \n",
       "\n",
       "                                                  title  \\\n",
       "941                 Will the 'Long Rains' save Somalia?   \n",
       "906                               Saving China's pandas   \n",
       "1275  Indonesia landslide search halted amid heavy r...   \n",
       "193   12 Gripes From People Who Have No Problem Doin...   \n",
       "1195  How Israel denies rights to Palestinian prisoners   \n",
       "\n",
       "                                           full_content  \n",
       "941   The 2016 rains failed in the Horn of Africa; t...  \n",
       "906   Are pandas destined to survive only in captivi...  \n",
       "1275  The landslide overturned vehicles, buried buil...  \n",
       "193   It doesn't mean there's something wrong with y...  \n",
       "1195  The arrest of Birzeit University student Kifah...  "
      ]
     },
     "execution_count": 47,
     "metadata": {},
     "output_type": "execute_result"
    }
   ],
   "source": [
    "training.head(5)"
   ]
  },
  {
   "cell_type": "code",
   "execution_count": 48,
   "metadata": {},
   "outputs": [
    {
     "name": "stdout",
     "output_type": "stream",
     "text": [
      "955\n",
      "410\n"
     ]
    }
   ],
   "source": [
    "print(len(training))\n",
    "print(len(testing))"
   ]
  },
  {
   "cell_type": "markdown",
   "metadata": {},
   "source": [
    "### Train\n",
    "\n",
    "Now we're ready to train!"
   ]
  },
  {
   "cell_type": "code",
   "execution_count": 49,
   "metadata": {
    "collapsed": true
   },
   "outputs": [],
   "source": [
    "pipeline = pipeline.fit(training.title, training.label)"
   ]
  },
  {
   "cell_type": "markdown",
   "metadata": {},
   "source": [
    "What? That was it?! \n",
    "\n",
    "That's right. You've just built a machine learning classifier for clickbait and it was that easy to train. Let's test it out:"
   ]
  },
  {
   "cell_type": "code",
   "execution_count": 50,
   "metadata": {},
   "outputs": [
    {
     "data": {
      "text/plain": [
       "array([1], dtype=int64)"
      ]
     },
     "execution_count": 50,
     "metadata": {},
     "output_type": "execute_result"
    }
   ],
   "source": [
    "pipeline.predict([\"10 things you need to do...\"])"
   ]
  },
  {
   "cell_type": "code",
   "execution_count": 51,
   "metadata": {},
   "outputs": [
    {
     "data": {
      "text/plain": [
       "array([0], dtype=int64)"
      ]
     },
     "execution_count": 51,
     "metadata": {},
     "output_type": "execute_result"
    }
   ],
   "source": [
    "pipeline.predict([\"French election polls show an early lead for Macron.\"])"
   ]
  },
  {
   "cell_type": "markdown",
   "metadata": {},
   "source": [
    "## Introspect our model"
   ]
  },
  {
   "cell_type": "code",
   "execution_count": 52,
   "metadata": {},
   "outputs": [
    {
     "name": "stdout",
     "output_type": "stream",
     "text": [
      "Top clickbait features:\n",
      "['get' 'these' '21' 'alcohol' 'things' 'that' 'times' 'this' 'your' 'you']\n",
      "---\n",
      "Top news features:\n",
      "['jerusalem' 'french' 'media' 'presidential' 'still' 'elections' 'vote'\n",
      " 'somalia' 'attack' 'trump']\n"
     ]
    }
   ],
   "source": [
    "from utils.plotting import print_top_features\n",
    "print_top_features(pipeline, n_features=10)"
   ]
  },
  {
   "cell_type": "markdown",
   "metadata": {},
   "source": [
    "## Evaluating our model\n",
    "\n",
    "Cross-validation is a method of measuring model performance:\n",
    "1. Split the training data into $n$ chunks\n",
    "2. Train the pipeline on all but one of the chunks\n",
    "3. Predict the label of the samples in the remaining chunk\n",
    "4. Repeat this until we have predicted the labels of the entire training set"
   ]
  },
  {
   "cell_type": "code",
   "execution_count": 53,
   "metadata": {
    "collapsed": true
   },
   "outputs": [],
   "source": [
    "from sklearn.model_selection import cross_val_predict\n",
    "predicted_labels = cross_val_predict(pipeline, training.title, training.label)"
   ]
  },
  {
   "cell_type": "markdown",
   "metadata": {},
   "source": [
    "Now we have our predicted labels, we can check our performance"
   ]
  },
  {
   "cell_type": "code",
   "execution_count": 54,
   "metadata": {},
   "outputs": [
    {
     "name": "stdout",
     "output_type": "stream",
     "text": [
      "Accuracy = 91.8%\n",
      "Confusion matrix, without normalization\n",
      "[[552  13]\n",
      " [ 65 325]]\n"
     ]
    },
    {
     "data": {
      "image/png": "[encoded data removed]",
      "text/plain": [
       "<matplotlib.figure.Figure at 0x2b3be8b7208>"
      ]
     },
     "metadata": {},
     "output_type": "display_data"
    }
   ],
   "source": [
    "from utils.plotting import pipeline_performance\n",
    "pipeline_performance(training.label, predicted_labels)"
   ]
  },
  {
   "cell_type": "markdown",
   "metadata": {},
   "source": [
    "It's always a good idea to inspect those samples that we got wrong."
   ]
  },
  {
   "cell_type": "code",
   "execution_count": 55,
   "metadata": {},
   "outputs": [
    {
     "data": {
      "text/html": [
       "<div>\n",
       "<table border=\"1\" class=\"dataframe\">\n",
       "  <thead>\n",
       "    <tr style=\"text-align: right;\">\n",
       "      <th></th>\n",
       "      <th>author</th>\n",
       "      <th>description</th>\n",
       "      <th>label</th>\n",
       "      <th>publishedAt</th>\n",
       "      <th>title</th>\n",
       "      <th>full_content</th>\n",
       "    </tr>\n",
       "  </thead>\n",
       "  <tbody>\n",
       "    <tr>\n",
       "      <th>268</th>\n",
       "      <td>Matt Stopera</td>\n",
       "      <td>This is challenging.</td>\n",
       "      <td>1</td>\n",
       "      <td>NaN</td>\n",
       "      <td>Random-Ass White Dude Or A Guy From The Chains...</td>\n",
       "      <td>This is challenging. Random-Ass White Dude Or ...</td>\n",
       "    </tr>\n",
       "    <tr>\n",
       "      <th>46</th>\n",
       "      <td>Keely Flaherty</td>\n",
       "      <td>Let's do this, nerds.</td>\n",
       "      <td>1</td>\n",
       "      <td>NaN</td>\n",
       "      <td>Only A True Pop Culture Nerd Will Recognize 75...</td>\n",
       "      <td>Let's do this, nerds. Only A True Pop Culture ...</td>\n",
       "    </tr>\n",
       "    <tr>\n",
       "      <th>385</th>\n",
       "      <td>Alyson Martin</td>\n",
       "      <td>More than half the states in the country have ...</td>\n",
       "      <td>1</td>\n",
       "      <td>2017-04-04T14:58:33+00:00</td>\n",
       "      <td>A 19-Year-Old Nearly Died After A Hospital Sai...</td>\n",
       "      <td>More than half the states in the country have ...</td>\n",
       "    </tr>\n",
       "    <tr>\n",
       "      <th>149</th>\n",
       "      <td>Tanya Chen</td>\n",
       "      <td>The mom assures us that James is OK. And as sh...</td>\n",
       "      <td>1</td>\n",
       "      <td>NaN</td>\n",
       "      <td>A Mom Walked Into A Hilarious Scene After Her ...</td>\n",
       "      <td>The mom assures us that James is OK. And as sh...</td>\n",
       "    </tr>\n",
       "    <tr>\n",
       "      <th>1330</th>\n",
       "      <td>NaN</td>\n",
       "      <td>He was caught on camera.</td>\n",
       "      <td>0</td>\n",
       "      <td>2017-04-02T10:37:08Z</td>\n",
       "      <td>Naked man who helped elderly couple with wheel...</td>\n",
       "      <td>He was caught on camera. Naked man who helped ...</td>\n",
       "    </tr>\n",
       "    <tr>\n",
       "      <th>940</th>\n",
       "      <td>NaN</td>\n",
       "      <td>Candidates must convince voters they are best ...</td>\n",
       "      <td>0</td>\n",
       "      <td>2017-04-17T12:19:58Z</td>\n",
       "      <td>French presidential elections: What you need t...</td>\n",
       "      <td>Candidates must convince voters they are best ...</td>\n",
       "    </tr>\n",
       "    <tr>\n",
       "      <th>1351</th>\n",
       "      <td>NaN</td>\n",
       "      <td>An upcoming film exposes the gender gap in yet...</td>\n",
       "      <td>0</td>\n",
       "      <td>2017-04-02T14:14:19Z</td>\n",
       "      <td>This documentary inspires pilots to 'fly like ...</td>\n",
       "      <td>An upcoming film exposes the gender gap in yet...</td>\n",
       "    </tr>\n",
       "    <tr>\n",
       "      <th>849</th>\n",
       "      <td>Ketan Alder</td>\n",
       "      <td>Hindu nationalists have reshaped Indian politi...</td>\n",
       "      <td>0</td>\n",
       "      <td>2017-04-13T10:58:00Z</td>\n",
       "      <td>How the BJP has come to dominate lower-caste p...</td>\n",
       "      <td>Hindu nationalists have reshaped Indian politi...</td>\n",
       "    </tr>\n",
       "    <tr>\n",
       "      <th>294</th>\n",
       "      <td>Ahmed Ali Akbar, See Something Say Something</td>\n",
       "      <td>Some people call them \"loanwords,\" but that im...</td>\n",
       "      <td>1</td>\n",
       "      <td>NaN</td>\n",
       "      <td>Which One Of These Words Was Stolen During Col...</td>\n",
       "      <td>Some people call them \"loanwords,\" but that im...</td>\n",
       "    </tr>\n",
       "    <tr>\n",
       "      <th>1237</th>\n",
       "      <td>NaN</td>\n",
       "      <td>They have been married for nearly 60 years whe...</td>\n",
       "      <td>1</td>\n",
       "      <td>2017-04-02T07:57:59Z</td>\n",
       "      <td>Christopher Timothy and Maggie Steed on EastEn...</td>\n",
       "      <td>They have been married for nearly 60 years whe...</td>\n",
       "    </tr>\n",
       "    <tr>\n",
       "      <th>77</th>\n",
       "      <td>Natalie Brown</td>\n",
       "      <td>Save today, clean tomorrow.</td>\n",
       "      <td>1</td>\n",
       "      <td>NaN</td>\n",
       "      <td>25 Incredibly Useful Spring Cleaning Cheat Sheets</td>\n",
       "      <td>Save today, clean tomorrow. 25 Incredibly Usef...</td>\n",
       "    </tr>\n",
       "    <tr>\n",
       "      <th>1348</th>\n",
       "      <td>NaN</td>\n",
       "      <td>Very accurate and kind of scary.</td>\n",
       "      <td>1</td>\n",
       "      <td>2017-04-02T12:36:43Z</td>\n",
       "      <td>I made an exact replica of Donald Trump in 'Th...</td>\n",
       "      <td>Very accurate and kind of scary. I made an exa...</td>\n",
       "    </tr>\n",
       "    <tr>\n",
       "      <th>1249</th>\n",
       "      <td>NaN</td>\n",
       "      <td>A series of photographs show letters that peop...</td>\n",
       "      <td>1</td>\n",
       "      <td>2017-04-02T08:25:21Z</td>\n",
       "      <td>Hilarious letters left for couriers by frustra...</td>\n",
       "      <td>A series of photographs show letters that peop...</td>\n",
       "    </tr>\n",
       "    <tr>\n",
       "      <th>280</th>\n",
       "      <td>Melissa Harrison</td>\n",
       "      <td>Works every time.</td>\n",
       "      <td>1</td>\n",
       "      <td>NaN</td>\n",
       "      <td>Here's Alton Brown's Trick For Cooking Pasta P...</td>\n",
       "      <td>Works every time. Here's Alton Brown's Trick F...</td>\n",
       "    </tr>\n",
       "    <tr>\n",
       "      <th>1295</th>\n",
       "      <td>NaN</td>\n",
       "      <td>As Susan arrived, Married At First Sight groom...</td>\n",
       "      <td>1</td>\n",
       "      <td>2017-04-02T12:13:50Z</td>\n",
       "      <td>Married At First Sight: Sean and Susan share a...</td>\n",
       "      <td>As Susan arrived, Married At First Sight groom...</td>\n",
       "    </tr>\n",
       "    <tr>\n",
       "      <th>1261</th>\n",
       "      <td>NaN</td>\n",
       "      <td>MailOnline dressed the same model in three dif...</td>\n",
       "      <td>1</td>\n",
       "      <td>2017-04-02T08:58:50Z</td>\n",
       "      <td>Which look will REALLY turn heads at the beach?</td>\n",
       "      <td>MailOnline dressed the same model in three dif...</td>\n",
       "    </tr>\n",
       "    <tr>\n",
       "      <th>305</th>\n",
       "      <td>Erin La Rosa</td>\n",
       "      <td>Coachella sure does come at you fast.</td>\n",
       "      <td>1</td>\n",
       "      <td>NaN</td>\n",
       "      <td>Kylie Jenner Turned Her Hair Into A Highlighte...</td>\n",
       "      <td>Coachella sure does come at you fast. Kylie Je...</td>\n",
       "    </tr>\n",
       "    <tr>\n",
       "      <th>1336</th>\n",
       "      <td>NaN</td>\n",
       "      <td>It’s not the World Cup, but it’s a start.</td>\n",
       "      <td>0</td>\n",
       "      <td>2017-04-02T10:16:58Z</td>\n",
       "      <td>Bastian Schweinsteiger took just 17 minutes to...</td>\n",
       "      <td>It’s not the World Cup, but it’s a start. Bast...</td>\n",
       "    </tr>\n",
       "    <tr>\n",
       "      <th>1265</th>\n",
       "      <td>NaN</td>\n",
       "      <td>Two people were taken to hospital with serious...</td>\n",
       "      <td>0</td>\n",
       "      <td>2017-04-02T16:12:41Z</td>\n",
       "      <td>Three people knocked down by car at Sugar Hut</td>\n",
       "      <td>Two people were taken to hospital with serious...</td>\n",
       "    </tr>\n",
       "    <tr>\n",
       "      <th>210</th>\n",
       "      <td>Scaachi Koul</td>\n",
       "      <td>Whether he’s playing an action star or a woke ...</td>\n",
       "      <td>1</td>\n",
       "      <td>NaN</td>\n",
       "      <td>How The Rock Became Our Favorite Populist Hero</td>\n",
       "      <td>Whether he’s playing an action star or a woke ...</td>\n",
       "    </tr>\n",
       "    <tr>\n",
       "      <th>1335</th>\n",
       "      <td>NaN</td>\n",
       "      <td>Bloodbath in the Dales?</td>\n",
       "      <td>1</td>\n",
       "      <td>2017-04-02T10:27:27Z</td>\n",
       "      <td>Shock double murder storyline ahead as two Emm...</td>\n",
       "      <td>Bloodbath in the Dales? Shock double murder st...</td>\n",
       "    </tr>\n",
       "    <tr>\n",
       "      <th>735</th>\n",
       "      <td>Smriti Daniel</td>\n",
       "      <td>Erected in 1708, the Hendala Leprosy Hospital ...</td>\n",
       "      <td>0</td>\n",
       "      <td>2017-04-09T07:54:15Z</td>\n",
       "      <td>Life and times of Sri Lanka's oldest leprosy h...</td>\n",
       "      <td>Erected in 1708, the Hendala Leprosy Hospital ...</td>\n",
       "    </tr>\n",
       "    <tr>\n",
       "      <th>445</th>\n",
       "      <td>Julia Reinstein</td>\n",
       "      <td>Alternative cats.</td>\n",
       "      <td>1</td>\n",
       "      <td>2017-04-22T20:14:22+00:00</td>\n",
       "      <td>28 Very Good Dogs Who Went To The March For Sc...</td>\n",
       "      <td>Alternative cats. 28 Very Good Dogs Who Went T...</td>\n",
       "    </tr>\n",
       "    <tr>\n",
       "      <th>26</th>\n",
       "      <td>Sheridan Watson</td>\n",
       "      <td>Dem babies.</td>\n",
       "      <td>1</td>\n",
       "      <td>NaN</td>\n",
       "      <td>Beyoncé Posted A New Photo Shoot Saturday Nigh...</td>\n",
       "      <td>Dem babies. Beyoncé Posted A New Photo Shoot S...</td>\n",
       "    </tr>\n",
       "    <tr>\n",
       "      <th>746</th>\n",
       "      <td>Simon Usherwood</td>\n",
       "      <td>The recent British Supreme Court ruling will n...</td>\n",
       "      <td>0</td>\n",
       "      <td>2017-04-09T14:29:46Z</td>\n",
       "      <td>Brexit is still happening, just not the way Ma...</td>\n",
       "      <td>The recent British Supreme Court ruling will n...</td>\n",
       "    </tr>\n",
       "    <tr>\n",
       "      <th>217</th>\n",
       "      <td>Hattie Soykan</td>\n",
       "      <td>What's that kid from &lt;i&gt;Stuart Little&lt;/i&gt; up t...</td>\n",
       "      <td>1</td>\n",
       "      <td>NaN</td>\n",
       "      <td>18 Kid Actors: Then Vs Now</td>\n",
       "      <td>What's that kid from &lt;i&gt;Stuart Little&lt;/i&gt; up t...</td>\n",
       "    </tr>\n",
       "    <tr>\n",
       "      <th>505</th>\n",
       "      <td>Michael Blackmon</td>\n",
       "      <td>OK, scholars, now let's get in formation.</td>\n",
       "      <td>1</td>\n",
       "      <td>2017-04-25T15:20:33+00:00</td>\n",
       "      <td>Beyoncé Is Creating A Scholarship For Female C...</td>\n",
       "      <td>OK, scholars, now let's get in formation. Beyo...</td>\n",
       "    </tr>\n",
       "    <tr>\n",
       "      <th>1314</th>\n",
       "      <td>NaN</td>\n",
       "      <td>Michelle wants forgiveness but can she find it...</td>\n",
       "      <td>0</td>\n",
       "      <td>2017-04-02T07:52:26Z</td>\n",
       "      <td>EastEnders lines up a new showdown for Michell...</td>\n",
       "      <td>Michelle wants forgiveness but can she find it...</td>\n",
       "    </tr>\n",
       "    <tr>\n",
       "      <th>83</th>\n",
       "      <td>Ben Henry</td>\n",
       "      <td>Do you have the same morals as everybody else?</td>\n",
       "      <td>1</td>\n",
       "      <td>NaN</td>\n",
       "      <td>How Does Your Sexual Morality Compare To Every...</td>\n",
       "      <td>Do you have the same morals as everybody else?...</td>\n",
       "    </tr>\n",
       "    <tr>\n",
       "      <th>1362</th>\n",
       "      <td>NaN</td>\n",
       "      <td>Vin Diesel never looked so good.</td>\n",
       "      <td>1</td>\n",
       "      <td>2017-04-02T19:05:02Z</td>\n",
       "      <td>Vin Diesel laser cut out of ham and cheese is ...</td>\n",
       "      <td>Vin Diesel never looked so good. Vin Diesel la...</td>\n",
       "    </tr>\n",
       "    <tr>\n",
       "      <th>...</th>\n",
       "      <td>...</td>\n",
       "      <td>...</td>\n",
       "      <td>...</td>\n",
       "      <td>...</td>\n",
       "      <td>...</td>\n",
       "      <td>...</td>\n",
       "    </tr>\n",
       "    <tr>\n",
       "      <th>54</th>\n",
       "      <td>Rachael Krishna</td>\n",
       "      <td>Some good news for this year.</td>\n",
       "      <td>1</td>\n",
       "      <td>NaN</td>\n",
       "      <td>Demi Lovato Has Finally Freed Poot</td>\n",
       "      <td>Some good news for this year. Demi Lovato Has ...</td>\n",
       "    </tr>\n",
       "    <tr>\n",
       "      <th>1018</th>\n",
       "      <td>Mary Pelletier</td>\n",
       "      <td>A new documentary brings the hidden urban Pale...</td>\n",
       "      <td>0</td>\n",
       "      <td>2017-04-19T06:09:15Z</td>\n",
       "      <td>Jerusalem, We Are Here</td>\n",
       "      <td>A new documentary brings the hidden urban Pale...</td>\n",
       "    </tr>\n",
       "    <tr>\n",
       "      <th>52</th>\n",
       "      <td>Pedro Fequiere</td>\n",
       "      <td>Everybody relates, Chris.</td>\n",
       "      <td>1</td>\n",
       "      <td>NaN</td>\n",
       "      <td>21 Times</td>\n",
       "      <td>Everybody relates, Chris. 21 Times</td>\n",
       "    </tr>\n",
       "    <tr>\n",
       "      <th>22</th>\n",
       "      <td>Flora Paul</td>\n",
       "      <td>That one you see on the bus every so often and...</td>\n",
       "      <td>1</td>\n",
       "      <td>NaN</td>\n",
       "      <td>15 Kinds Of Crushes Everyone Has Had In Their ...</td>\n",
       "      <td>That one you see on the bus every so often and...</td>\n",
       "    </tr>\n",
       "    <tr>\n",
       "      <th>99</th>\n",
       "      <td>Ryan Schocket</td>\n",
       "      <td>\"'Cause these things will change.\"</td>\n",
       "      <td>1</td>\n",
       "      <td>NaN</td>\n",
       "      <td>Here's How Much Taylor Swift Has Changed Throu...</td>\n",
       "      <td>\"'Cause these things will change.\" Here's How ...</td>\n",
       "    </tr>\n",
       "    <tr>\n",
       "      <th>1288</th>\n",
       "      <td>NaN</td>\n",
       "      <td>The 35-year-old Brazilian beauty looked sensat...</td>\n",
       "      <td>1</td>\n",
       "      <td>2017-04-02T11:56:01Z</td>\n",
       "      <td>Adriana Lima lives it up for beau Matt Harvey'...</td>\n",
       "      <td>The 35-year-old Brazilian beauty looked sensat...</td>\n",
       "    </tr>\n",
       "    <tr>\n",
       "      <th>174</th>\n",
       "      <td>Michelle Rennex</td>\n",
       "      <td>THE MOST INFURIATING MOMENT IN ROM-COM HISTORY.</td>\n",
       "      <td>1</td>\n",
       "      <td>NaN</td>\n",
       "      <td>We Need To Talk About How Austin Didn't Recogn...</td>\n",
       "      <td>THE MOST INFURIATING MOMENT IN ROM-COM HISTORY...</td>\n",
       "    </tr>\n",
       "    <tr>\n",
       "      <th>1352</th>\n",
       "      <td>NaN</td>\n",
       "      <td>\"The Joy of Painting...and Parenthood\"</td>\n",
       "      <td>1</td>\n",
       "      <td>2017-04-02T14:34:18Z</td>\n",
       "      <td>Couple announces pregnancy in a perfect Bob Ro...</td>\n",
       "      <td>\"The Joy of Painting...and Parenthood\" Couple ...</td>\n",
       "    </tr>\n",
       "    <tr>\n",
       "      <th>1325</th>\n",
       "      <td>NaN</td>\n",
       "      <td>London, in a nutshell</td>\n",
       "      <td>1</td>\n",
       "      <td>2017-04-02T10:06:35Z</td>\n",
       "      <td>48 hours on London's Clapham High Street</td>\n",
       "      <td>London, in a nutshell 48 hours on London's Cla...</td>\n",
       "    </tr>\n",
       "    <tr>\n",
       "      <th>1328</th>\n",
       "      <td>NaN</td>\n",
       "      <td>'My opinion on Holly has changed!'</td>\n",
       "      <td>0</td>\n",
       "      <td>2017-04-02T10:10:11Z</td>\n",
       "      <td>Holly Willoughby flashes her Spanx and says pe...</td>\n",
       "      <td>'My opinion on Holly has changed!' Holly Willo...</td>\n",
       "    </tr>\n",
       "    <tr>\n",
       "      <th>1338</th>\n",
       "      <td>NaN</td>\n",
       "      <td>Learn from the GOATs.</td>\n",
       "      <td>1</td>\n",
       "      <td>2017-04-02T04:49:39Z</td>\n",
       "      <td>Get schooled online by celebrities like Steve ...</td>\n",
       "      <td>Learn from the GOATs. Get schooled online by c...</td>\n",
       "    </tr>\n",
       "    <tr>\n",
       "      <th>224</th>\n",
       "      <td>Tanya Chen</td>\n",
       "      <td>Literal underdogs!</td>\n",
       "      <td>1</td>\n",
       "      <td>NaN</td>\n",
       "      <td>21 Breathtaking Photos Of Dogs, But From Under...</td>\n",
       "      <td>Literal underdogs! 21 Breathtaking Photos Of D...</td>\n",
       "    </tr>\n",
       "    <tr>\n",
       "      <th>92</th>\n",
       "      <td>Lauren Strapagiel</td>\n",
       "      <td>IT'S BEEN 84 YEARS.</td>\n",
       "      <td>1</td>\n",
       "      <td>NaN</td>\n",
       "      <td>Canadians, Here’s How To Get Horny For Summer</td>\n",
       "      <td>IT'S BEEN 84 YEARS. Canadians, Here’s How To G...</td>\n",
       "    </tr>\n",
       "    <tr>\n",
       "      <th>1321</th>\n",
       "      <td>NaN</td>\n",
       "      <td>This BMW should have parked between the lines.</td>\n",
       "      <td>1</td>\n",
       "      <td>2017-04-02T09:00:49Z</td>\n",
       "      <td>Angry Jeep driver pushes badly parked car into...</td>\n",
       "      <td>This BMW should have parked between the lines....</td>\n",
       "    </tr>\n",
       "    <tr>\n",
       "      <th>516</th>\n",
       "      <td>Jen Abidor</td>\n",
       "      <td>April 25 is no longer the perfect date.</td>\n",
       "      <td>1</td>\n",
       "      <td>2017-04-25T15:47:30+00:00</td>\n",
       "      <td>Climate Change Has Officially Ruined 'Miss Con...</td>\n",
       "      <td>April 25 is no longer the perfect date. Climat...</td>\n",
       "    </tr>\n",
       "    <tr>\n",
       "      <th>450</th>\n",
       "      <td>Kate Bubacz</td>\n",
       "      <td>Scientists are taking some very cool steps to ...</td>\n",
       "      <td>1</td>\n",
       "      <td>2017-04-22T17:01:03+00:00</td>\n",
       "      <td>9 Photos Showing Ways To Prepare For The Future</td>\n",
       "      <td>Scientists are taking some very cool steps to ...</td>\n",
       "    </tr>\n",
       "    <tr>\n",
       "      <th>1312</th>\n",
       "      <td>NaN</td>\n",
       "      <td>But what drama will they bring?</td>\n",
       "      <td>1</td>\n",
       "      <td>2017-04-02T07:09:53Z</td>\n",
       "      <td>EastEnders casts a new couple carrying secrets...</td>\n",
       "      <td>But what drama will they bring? EastEnders cas...</td>\n",
       "    </tr>\n",
       "    <tr>\n",
       "      <th>652</th>\n",
       "      <td>Nikolia Apostolou</td>\n",
       "      <td>Christoulas's daughter says her father's suici...</td>\n",
       "      <td>0</td>\n",
       "      <td>2017-04-06T13:23:13Z</td>\n",
       "      <td>On Dimitris Christoulas: 'He is a part of hist...</td>\n",
       "      <td>Christoulas's daughter says her father's suici...</td>\n",
       "    </tr>\n",
       "    <tr>\n",
       "      <th>392</th>\n",
       "      <td>Sally Tamarkin, Caity Arthur</td>\n",
       "      <td>Magic, rainbows, and smiles, but tbh mostly su...</td>\n",
       "      <td>1</td>\n",
       "      <td>2017-04-19T21:58:53+00:00</td>\n",
       "      <td>Here's What's Actually In The Starbucks Unicor...</td>\n",
       "      <td>Magic, rainbows, and smiles, but tbh mostly su...</td>\n",
       "    </tr>\n",
       "    <tr>\n",
       "      <th>404</th>\n",
       "      <td>Alyson Martin</td>\n",
       "      <td>“An herb-induced food or treat should taste de...</td>\n",
       "      <td>1</td>\n",
       "      <td>2017-04-20T16:06:02+00:00</td>\n",
       "      <td>Literally The Tastiest 4/20 Pot Cookies Ever F...</td>\n",
       "      <td>“An herb-induced food or treat should taste de...</td>\n",
       "    </tr>\n",
       "    <tr>\n",
       "      <th>499</th>\n",
       "      <td>Ellie Bate</td>\n",
       "      <td>Don't get too excited, though – the movie does...</td>\n",
       "      <td>1</td>\n",
       "      <td>2017-04-25T12:06:38+00:00</td>\n",
       "      <td>Nicole Scherzinger May Play Elphaba In The Upc...</td>\n",
       "      <td>Don't get too excited, though – the movie does...</td>\n",
       "    </tr>\n",
       "    <tr>\n",
       "      <th>498</th>\n",
       "      <td>Cassie Smyth</td>\n",
       "      <td>Wtf even is grits?</td>\n",
       "      <td>1</td>\n",
       "      <td>2017-04-25T14:26:56+00:00</td>\n",
       "      <td>9 American Foods That Mean Something Entirely ...</td>\n",
       "      <td>Wtf even is grits? 9 American Foods That Mean ...</td>\n",
       "    </tr>\n",
       "    <tr>\n",
       "      <th>208</th>\n",
       "      <td>Krista Torres, Farrah Penn</td>\n",
       "      <td>CMT = LIFE.</td>\n",
       "      <td>1</td>\n",
       "      <td>NaN</td>\n",
       "      <td>15 Truths Only '90s Country Music Fans Will Re...</td>\n",
       "      <td>CMT = LIFE. 15 Truths Only '90s Country Music ...</td>\n",
       "    </tr>\n",
       "    <tr>\n",
       "      <th>382</th>\n",
       "      <td>David Mack</td>\n",
       "      <td>'20 weeks.'</td>\n",
       "      <td>1</td>\n",
       "      <td>2017-04-19T15:26:45+00:00</td>\n",
       "      <td>OMG Queen Of Tennis Serena Williams Just Revea...</td>\n",
       "      <td>'20 weeks.' OMG Queen Of Tennis Serena William...</td>\n",
       "    </tr>\n",
       "    <tr>\n",
       "      <th>388</th>\n",
       "      <td>Patrick Sproull</td>\n",
       "      <td>Featuring the hottest cast on TV right now.</td>\n",
       "      <td>1</td>\n",
       "      <td>2017-04-19T20:52:44+00:00</td>\n",
       "      <td>Fuck, Marry, Kill: The 'Riverdale' Edition</td>\n",
       "      <td>Featuring the hottest cast on TV right now. Fu...</td>\n",
       "    </tr>\n",
       "    <tr>\n",
       "      <th>1271</th>\n",
       "      <td>NaN</td>\n",
       "      <td>Fey said the women who voted for Trump now wan...</td>\n",
       "      <td>0</td>\n",
       "      <td>2017-04-02T09:14:36Z</td>\n",
       "      <td>Tina Fey blasts white college-educated women w...</td>\n",
       "      <td>Fey said the women who voted for Trump now wan...</td>\n",
       "    </tr>\n",
       "    <tr>\n",
       "      <th>57</th>\n",
       "      <td>Michelle Rennex</td>\n",
       "      <td>Don't knock it 'til you try it.</td>\n",
       "      <td>1</td>\n",
       "      <td>NaN</td>\n",
       "      <td>23 National Delicacies That Seem Weird To The ...</td>\n",
       "      <td>Don't knock it 'til you try it. 23 National De...</td>\n",
       "    </tr>\n",
       "    <tr>\n",
       "      <th>62</th>\n",
       "      <td>David Mack</td>\n",
       "      <td>\"Smmmmmmokin' gun!\"</td>\n",
       "      <td>1</td>\n",
       "      <td>NaN</td>\n",
       "      <td>The Trump-Russia Unmasking Controversy As Expl...</td>\n",
       "      <td>\"Smmmmmmokin' gun!\" The Trump-Russia Unmasking...</td>\n",
       "    </tr>\n",
       "    <tr>\n",
       "      <th>1342</th>\n",
       "      <td>NaN</td>\n",
       "      <td>The ultimate prank is our reality!!!</td>\n",
       "      <td>1</td>\n",
       "      <td>2017-04-01T17:59:25Z</td>\n",
       "      <td>12 tweets that simultaneously drag April Fools...</td>\n",
       "      <td>The ultimate prank is our reality!!! 12 tweets...</td>\n",
       "    </tr>\n",
       "    <tr>\n",
       "      <th>469</th>\n",
       "      <td>Rachael Krishna</td>\n",
       "      <td>Apparently it was a pretty good blender.</td>\n",
       "      <td>1</td>\n",
       "      <td>2017-04-24T11:04:41+00:00</td>\n",
       "      <td>A Girl Used Her Boyfriend's Balls As A Beauty ...</td>\n",
       "      <td>Apparently it was a pretty good blender. A Gir...</td>\n",
       "    </tr>\n",
       "  </tbody>\n",
       "</table>\n",
       "<p>78 rows × 6 columns</p>\n",
       "</div>"
      ],
      "text/plain": [
       "                                            author  \\\n",
       "268                                   Matt Stopera   \n",
       "46                                  Keely Flaherty   \n",
       "385                                  Alyson Martin   \n",
       "149                                     Tanya Chen   \n",
       "1330                                           NaN   \n",
       "940                                            NaN   \n",
       "1351                                           NaN   \n",
       "849                                    Ketan Alder   \n",
       "294   Ahmed Ali Akbar, See Something Say Something   \n",
       "1237                                           NaN   \n",
       "77                                   Natalie Brown   \n",
       "1348                                           NaN   \n",
       "1249                                           NaN   \n",
       "280                               Melissa Harrison   \n",
       "1295                                           NaN   \n",
       "1261                                           NaN   \n",
       "305                                   Erin La Rosa   \n",
       "1336                                           NaN   \n",
       "1265                                           NaN   \n",
       "210                                   Scaachi Koul   \n",
       "1335                                           NaN   \n",
       "735                                  Smriti Daniel   \n",
       "445                                Julia Reinstein   \n",
       "26                                 Sheridan Watson   \n",
       "746                                Simon Usherwood   \n",
       "217                                  Hattie Soykan   \n",
       "505                               Michael Blackmon   \n",
       "1314                                           NaN   \n",
       "83                                       Ben Henry   \n",
       "1362                                           NaN   \n",
       "...                                            ...   \n",
       "54                                 Rachael Krishna   \n",
       "1018                                Mary Pelletier   \n",
       "52                                  Pedro Fequiere   \n",
       "22                                      Flora Paul   \n",
       "99                                   Ryan Schocket   \n",
       "1288                                           NaN   \n",
       "174                                Michelle Rennex   \n",
       "1352                                           NaN   \n",
       "1325                                           NaN   \n",
       "1328                                           NaN   \n",
       "1338                                           NaN   \n",
       "224                                     Tanya Chen   \n",
       "92                               Lauren Strapagiel   \n",
       "1321                                           NaN   \n",
       "516                                     Jen Abidor   \n",
       "450                                    Kate Bubacz   \n",
       "1312                                           NaN   \n",
       "652                              Nikolia Apostolou   \n",
       "392                   Sally Tamarkin, Caity Arthur   \n",
       "404                                  Alyson Martin   \n",
       "499                                     Ellie Bate   \n",
       "498                                   Cassie Smyth   \n",
       "208                     Krista Torres, Farrah Penn   \n",
       "382                                     David Mack   \n",
       "388                                Patrick Sproull   \n",
       "1271                                           NaN   \n",
       "57                                 Michelle Rennex   \n",
       "62                                      David Mack   \n",
       "1342                                           NaN   \n",
       "469                                Rachael Krishna   \n",
       "\n",
       "                                            description  label  \\\n",
       "268                                This is challenging.      1   \n",
       "46                                Let's do this, nerds.      1   \n",
       "385   More than half the states in the country have ...      1   \n",
       "149   The mom assures us that James is OK. And as sh...      1   \n",
       "1330                           He was caught on camera.      0   \n",
       "940   Candidates must convince voters they are best ...      0   \n",
       "1351  An upcoming film exposes the gender gap in yet...      0   \n",
       "849   Hindu nationalists have reshaped Indian politi...      0   \n",
       "294   Some people call them \"loanwords,\" but that im...      1   \n",
       "1237  They have been married for nearly 60 years whe...      1   \n",
       "77                          Save today, clean tomorrow.      1   \n",
       "1348                   Very accurate and kind of scary.      1   \n",
       "1249  A series of photographs show letters that peop...      1   \n",
       "280                                   Works every time.      1   \n",
       "1295  As Susan arrived, Married At First Sight groom...      1   \n",
       "1261  MailOnline dressed the same model in three dif...      1   \n",
       "305               Coachella sure does come at you fast.      1   \n",
       "1336          It’s not the World Cup, but it’s a start.      0   \n",
       "1265  Two people were taken to hospital with serious...      0   \n",
       "210   Whether he’s playing an action star or a woke ...      1   \n",
       "1335                            Bloodbath in the Dales?      1   \n",
       "735   Erected in 1708, the Hendala Leprosy Hospital ...      0   \n",
       "445                                   Alternative cats.      1   \n",
       "26                                          Dem babies.      1   \n",
       "746   The recent British Supreme Court ruling will n...      0   \n",
       "217   What's that kid from <i>Stuart Little</i> up t...      1   \n",
       "505           OK, scholars, now let's get in formation.      1   \n",
       "1314  Michelle wants forgiveness but can she find it...      0   \n",
       "83       Do you have the same morals as everybody else?      1   \n",
       "1362                   Vin Diesel never looked so good.      1   \n",
       "...                                                 ...    ...   \n",
       "54                        Some good news for this year.      1   \n",
       "1018  A new documentary brings the hidden urban Pale...      0   \n",
       "52                            Everybody relates, Chris.      1   \n",
       "22    That one you see on the bus every so often and...      1   \n",
       "99                   \"'Cause these things will change.\"      1   \n",
       "1288  The 35-year-old Brazilian beauty looked sensat...      1   \n",
       "174     THE MOST INFURIATING MOMENT IN ROM-COM HISTORY.      1   \n",
       "1352             \"The Joy of Painting...and Parenthood\"      1   \n",
       "1325                              London, in a nutshell      1   \n",
       "1328                 'My opinion on Holly has changed!'      0   \n",
       "1338                              Learn from the GOATs.      1   \n",
       "224                                  Literal underdogs!      1   \n",
       "92                                  IT'S BEEN 84 YEARS.      1   \n",
       "1321     This BMW should have parked between the lines.      1   \n",
       "516             April 25 is no longer the perfect date.      1   \n",
       "450   Scientists are taking some very cool steps to ...      1   \n",
       "1312                    But what drama will they bring?      1   \n",
       "652   Christoulas's daughter says her father's suici...      0   \n",
       "392   Magic, rainbows, and smiles, but tbh mostly su...      1   \n",
       "404   “An herb-induced food or treat should taste de...      1   \n",
       "499   Don't get too excited, though – the movie does...      1   \n",
       "498                                  Wtf even is grits?      1   \n",
       "208                                         CMT = LIFE.      1   \n",
       "382                                         '20 weeks.'      1   \n",
       "388         Featuring the hottest cast on TV right now.      1   \n",
       "1271  Fey said the women who voted for Trump now wan...      0   \n",
       "57                      Don't knock it 'til you try it.      1   \n",
       "62                                  \"Smmmmmmokin' gun!\"      1   \n",
       "1342               The ultimate prank is our reality!!!      1   \n",
       "469            Apparently it was a pretty good blender.      1   \n",
       "\n",
       "                    publishedAt  \\\n",
       "268                         NaN   \n",
       "46                          NaN   \n",
       "385   2017-04-04T14:58:33+00:00   \n",
       "149                         NaN   \n",
       "1330       2017-04-02T10:37:08Z   \n",
       "940        2017-04-17T12:19:58Z   \n",
       "1351       2017-04-02T14:14:19Z   \n",
       "849        2017-04-13T10:58:00Z   \n",
       "294                         NaN   \n",
       "1237       2017-04-02T07:57:59Z   \n",
       "77                          NaN   \n",
       "1348       2017-04-02T12:36:43Z   \n",
       "1249       2017-04-02T08:25:21Z   \n",
       "280                         NaN   \n",
       "1295       2017-04-02T12:13:50Z   \n",
       "1261       2017-04-02T08:58:50Z   \n",
       "305                         NaN   \n",
       "1336       2017-04-02T10:16:58Z   \n",
       "1265       2017-04-02T16:12:41Z   \n",
       "210                         NaN   \n",
       "1335       2017-04-02T10:27:27Z   \n",
       "735        2017-04-09T07:54:15Z   \n",
       "445   2017-04-22T20:14:22+00:00   \n",
       "26                          NaN   \n",
       "746        2017-04-09T14:29:46Z   \n",
       "217                         NaN   \n",
       "505   2017-04-25T15:20:33+00:00   \n",
       "1314       2017-04-02T07:52:26Z   \n",
       "83                          NaN   \n",
       "1362       2017-04-02T19:05:02Z   \n",
       "...                         ...   \n",
       "54                          NaN   \n",
       "1018       2017-04-19T06:09:15Z   \n",
       "52                          NaN   \n",
       "22                          NaN   \n",
       "99                          NaN   \n",
       "1288       2017-04-02T11:56:01Z   \n",
       "174                         NaN   \n",
       "1352       2017-04-02T14:34:18Z   \n",
       "1325       2017-04-02T10:06:35Z   \n",
       "1328       2017-04-02T10:10:11Z   \n",
       "1338       2017-04-02T04:49:39Z   \n",
       "224                         NaN   \n",
       "92                          NaN   \n",
       "1321       2017-04-02T09:00:49Z   \n",
       "516   2017-04-25T15:47:30+00:00   \n",
       "450   2017-04-22T17:01:03+00:00   \n",
       "1312       2017-04-02T07:09:53Z   \n",
       "652        2017-04-06T13:23:13Z   \n",
       "392   2017-04-19T21:58:53+00:00   \n",
       "404   2017-04-20T16:06:02+00:00   \n",
       "499   2017-04-25T12:06:38+00:00   \n",
       "498   2017-04-25T14:26:56+00:00   \n",
       "208                         NaN   \n",
       "382   2017-04-19T15:26:45+00:00   \n",
       "388   2017-04-19T20:52:44+00:00   \n",
       "1271       2017-04-02T09:14:36Z   \n",
       "57                          NaN   \n",
       "62                          NaN   \n",
       "1342       2017-04-01T17:59:25Z   \n",
       "469   2017-04-24T11:04:41+00:00   \n",
       "\n",
       "                                                  title  \\\n",
       "268   Random-Ass White Dude Or A Guy From The Chains...   \n",
       "46    Only A True Pop Culture Nerd Will Recognize 75...   \n",
       "385   A 19-Year-Old Nearly Died After A Hospital Sai...   \n",
       "149   A Mom Walked Into A Hilarious Scene After Her ...   \n",
       "1330  Naked man who helped elderly couple with wheel...   \n",
       "940   French presidential elections: What you need t...   \n",
       "1351  This documentary inspires pilots to 'fly like ...   \n",
       "849   How the BJP has come to dominate lower-caste p...   \n",
       "294   Which One Of These Words Was Stolen During Col...   \n",
       "1237  Christopher Timothy and Maggie Steed on EastEn...   \n",
       "77    25 Incredibly Useful Spring Cleaning Cheat Sheets   \n",
       "1348  I made an exact replica of Donald Trump in 'Th...   \n",
       "1249  Hilarious letters left for couriers by frustra...   \n",
       "280   Here's Alton Brown's Trick For Cooking Pasta P...   \n",
       "1295  Married At First Sight: Sean and Susan share a...   \n",
       "1261    Which look will REALLY turn heads at the beach?   \n",
       "305   Kylie Jenner Turned Her Hair Into A Highlighte...   \n",
       "1336  Bastian Schweinsteiger took just 17 minutes to...   \n",
       "1265      Three people knocked down by car at Sugar Hut   \n",
       "210      How The Rock Became Our Favorite Populist Hero   \n",
       "1335  Shock double murder storyline ahead as two Emm...   \n",
       "735   Life and times of Sri Lanka's oldest leprosy h...   \n",
       "445   28 Very Good Dogs Who Went To The March For Sc...   \n",
       "26    Beyoncé Posted A New Photo Shoot Saturday Nigh...   \n",
       "746   Brexit is still happening, just not the way Ma...   \n",
       "217                          18 Kid Actors: Then Vs Now   \n",
       "505   Beyoncé Is Creating A Scholarship For Female C...   \n",
       "1314  EastEnders lines up a new showdown for Michell...   \n",
       "83    How Does Your Sexual Morality Compare To Every...   \n",
       "1362  Vin Diesel laser cut out of ham and cheese is ...   \n",
       "...                                                 ...   \n",
       "54                   Demi Lovato Has Finally Freed Poot   \n",
       "1018                             Jerusalem, We Are Here   \n",
       "52                                             21 Times   \n",
       "22    15 Kinds Of Crushes Everyone Has Had In Their ...   \n",
       "99    Here's How Much Taylor Swift Has Changed Throu...   \n",
       "1288  Adriana Lima lives it up for beau Matt Harvey'...   \n",
       "174   We Need To Talk About How Austin Didn't Recogn...   \n",
       "1352  Couple announces pregnancy in a perfect Bob Ro...   \n",
       "1325           48 hours on London's Clapham High Street   \n",
       "1328  Holly Willoughby flashes her Spanx and says pe...   \n",
       "1338  Get schooled online by celebrities like Steve ...   \n",
       "224   21 Breathtaking Photos Of Dogs, But From Under...   \n",
       "92        Canadians, Here’s How To Get Horny For Summer   \n",
       "1321  Angry Jeep driver pushes badly parked car into...   \n",
       "516   Climate Change Has Officially Ruined 'Miss Con...   \n",
       "450     9 Photos Showing Ways To Prepare For The Future   \n",
       "1312  EastEnders casts a new couple carrying secrets...   \n",
       "652   On Dimitris Christoulas: 'He is a part of hist...   \n",
       "392   Here's What's Actually In The Starbucks Unicor...   \n",
       "404   Literally The Tastiest 4/20 Pot Cookies Ever F...   \n",
       "499   Nicole Scherzinger May Play Elphaba In The Upc...   \n",
       "498   9 American Foods That Mean Something Entirely ...   \n",
       "208   15 Truths Only '90s Country Music Fans Will Re...   \n",
       "382   OMG Queen Of Tennis Serena Williams Just Revea...   \n",
       "388          Fuck, Marry, Kill: The 'Riverdale' Edition   \n",
       "1271  Tina Fey blasts white college-educated women w...   \n",
       "57    23 National Delicacies That Seem Weird To The ...   \n",
       "62    The Trump-Russia Unmasking Controversy As Expl...   \n",
       "1342  12 tweets that simultaneously drag April Fools...   \n",
       "469   A Girl Used Her Boyfriend's Balls As A Beauty ...   \n",
       "\n",
       "                                           full_content  \n",
       "268   This is challenging. Random-Ass White Dude Or ...  \n",
       "46    Let's do this, nerds. Only A True Pop Culture ...  \n",
       "385   More than half the states in the country have ...  \n",
       "149   The mom assures us that James is OK. And as sh...  \n",
       "1330  He was caught on camera. Naked man who helped ...  \n",
       "940   Candidates must convince voters they are best ...  \n",
       "1351  An upcoming film exposes the gender gap in yet...  \n",
       "849   Hindu nationalists have reshaped Indian politi...  \n",
       "294   Some people call them \"loanwords,\" but that im...  \n",
       "1237  They have been married for nearly 60 years whe...  \n",
       "77    Save today, clean tomorrow. 25 Incredibly Usef...  \n",
       "1348  Very accurate and kind of scary. I made an exa...  \n",
       "1249  A series of photographs show letters that peop...  \n",
       "280   Works every time. Here's Alton Brown's Trick F...  \n",
       "1295  As Susan arrived, Married At First Sight groom...  \n",
       "1261  MailOnline dressed the same model in three dif...  \n",
       "305   Coachella sure does come at you fast. Kylie Je...  \n",
       "1336  It’s not the World Cup, but it’s a start. Bast...  \n",
       "1265  Two people were taken to hospital with serious...  \n",
       "210   Whether he’s playing an action star or a woke ...  \n",
       "1335  Bloodbath in the Dales? Shock double murder st...  \n",
       "735   Erected in 1708, the Hendala Leprosy Hospital ...  \n",
       "445   Alternative cats. 28 Very Good Dogs Who Went T...  \n",
       "26    Dem babies. Beyoncé Posted A New Photo Shoot S...  \n",
       "746   The recent British Supreme Court ruling will n...  \n",
       "217   What's that kid from <i>Stuart Little</i> up t...  \n",
       "505   OK, scholars, now let's get in formation. Beyo...  \n",
       "1314  Michelle wants forgiveness but can she find it...  \n",
       "83    Do you have the same morals as everybody else?...  \n",
       "1362  Vin Diesel never looked so good. Vin Diesel la...  \n",
       "...                                                 ...  \n",
       "54    Some good news for this year. Demi Lovato Has ...  \n",
       "1018  A new documentary brings the hidden urban Pale...  \n",
       "52                   Everybody relates, Chris. 21 Times  \n",
       "22    That one you see on the bus every so often and...  \n",
       "99    \"'Cause these things will change.\" Here's How ...  \n",
       "1288  The 35-year-old Brazilian beauty looked sensat...  \n",
       "174   THE MOST INFURIATING MOMENT IN ROM-COM HISTORY...  \n",
       "1352  \"The Joy of Painting...and Parenthood\" Couple ...  \n",
       "1325  London, in a nutshell 48 hours on London's Cla...  \n",
       "1328  'My opinion on Holly has changed!' Holly Willo...  \n",
       "1338  Learn from the GOATs. Get schooled online by c...  \n",
       "224   Literal underdogs! 21 Breathtaking Photos Of D...  \n",
       "92    IT'S BEEN 84 YEARS. Canadians, Here’s How To G...  \n",
       "1321  This BMW should have parked between the lines....  \n",
       "516   April 25 is no longer the perfect date. Climat...  \n",
       "450   Scientists are taking some very cool steps to ...  \n",
       "1312  But what drama will they bring? EastEnders cas...  \n",
       "652   Christoulas's daughter says her father's suici...  \n",
       "392   Magic, rainbows, and smiles, but tbh mostly su...  \n",
       "404   “An herb-induced food or treat should taste de...  \n",
       "499   Don't get too excited, though – the movie does...  \n",
       "498   Wtf even is grits? 9 American Foods That Mean ...  \n",
       "208   CMT = LIFE. 15 Truths Only '90s Country Music ...  \n",
       "382   '20 weeks.' OMG Queen Of Tennis Serena William...  \n",
       "388   Featuring the hottest cast on TV right now. Fu...  \n",
       "1271  Fey said the women who voted for Trump now wan...  \n",
       "57    Don't knock it 'til you try it. 23 National De...  \n",
       "62    \"Smmmmmmokin' gun!\" The Trump-Russia Unmasking...  \n",
       "1342  The ultimate prank is our reality!!! 12 tweets...  \n",
       "469   Apparently it was a pretty good blender. A Gir...  \n",
       "\n",
       "[78 rows x 6 columns]"
      ]
     },
     "execution_count": 55,
     "metadata": {},
     "output_type": "execute_result"
    }
   ],
   "source": [
    "training[training.label != predicted_labels]"
   ]
  },
  {
   "cell_type": "markdown",
   "metadata": {},
   "source": [
    "## Improving the model\n",
    "\n",
    "We had pretty high accuracy but can we do better?\n",
    "\n",
    "### Use title and descritption\n",
    "\n",
    "Rather than using just the title, we could use the title and description together."
   ]
  },
  {
   "cell_type": "code",
   "execution_count": 56,
   "metadata": {},
   "outputs": [
    {
     "name": "stdout",
     "output_type": "stream",
     "text": [
      "Accuracy = 93.4%\n",
      "Confusion matrix, without normalization\n",
      "[[535  30]\n",
      " [ 33 357]]\n"
     ]
    },
    {
     "data": {
      "image/png": "[encoded data removed]",
      "text/plain": [
       "<matplotlib.figure.Figure at 0x2b3bead1eb8>"
      ]
     },
     "metadata": {},
     "output_type": "display_data"
    }
   ],
   "source": [
    "predicted_labels = cross_val_predict(pipeline, training.full_content, training.label)\n",
    "pipeline_performance(training.label, predicted_labels)"
   ]
  },
  {
   "cell_type": "markdown",
   "metadata": {},
   "source": [
    "### TfidfVectorizer Transformer\n",
    "\n",
    "The TfidifVectorizer is an improved version of the CountVectorizer. Words are still transformed into a bag of words but we emphasise the importance of less common words."
   ]
  },
  {
   "cell_type": "code",
   "execution_count": 57,
   "metadata": {},
   "outputs": [
    {
     "name": "stdout",
     "output_type": "stream",
     "text": [
      "Accuracy = 94.5%\n",
      "Confusion matrix, without normalization\n",
      "[[554  11]\n",
      " [ 42 348]]\n"
     ]
    },
    {
     "data": {
      "image/png": "[encoded data removed]",
      "text/plain": [
       "<matplotlib.figure.Figure at 0x2b3be99c4e0>"
      ]
     },
     "metadata": {},
     "output_type": "display_data"
    }
   ],
   "source": [
    "from sklearn.feature_extraction.text import TfidfVectorizer\n",
    "\n",
    "steps = (\n",
    "    ('vectorizer', TfidfVectorizer()),\n",
    "    ('classifier', LinearSVC())\n",
    ")\n",
    "pipeline = Pipeline(steps)\n",
    "\n",
    "predicted_labels = cross_val_predict(pipeline, training.full_content, training.label)\n",
    "pipeline_performance(training.label, predicted_labels)"
   ]
  },
  {
   "cell_type": "markdown",
   "metadata": {},
   "source": [
    "### Replace ordinals\n",
    "\n",
    "Earlier we saw that numbers are very common in clickbait articles, they are likely to be a very descriptive feature. However our vocabulary is limited by the numbers that we saw in training. We could replace all numbers by some label so that all numbers are represented equally.\n",
    "\n",
    "All we need to do is write a string preprocessor and pass it to the vectorizer."
   ]
  },
  {
   "cell_type": "code",
   "execution_count": 58,
   "metadata": {},
   "outputs": [
    {
     "name": "stdout",
     "output_type": "stream",
     "text": [
      "Accuracy = 96.5%\n",
      "Confusion matrix, without normalization\n",
      "[[563   2]\n",
      " [ 31 359]]\n"
     ]
    },
    {
     "data": {
      "image/png": "[encoded data removed]",
      "text/plain": [
       "<matplotlib.figure.Figure at 0x2b3bebfb6d8>"
      ]
     },
     "metadata": {},
     "output_type": "display_data"
    }
   ],
   "source": [
    "import re\n",
    "def mask_integers(s):\n",
    "    return re.sub(r'\\d+', 'INTMASK', s)\n",
    "\n",
    "steps = (\n",
    "    ('vectorizer', TfidfVectorizer(preprocessor=mask_integers)),\n",
    "    ('classifier', LinearSVC())\n",
    ")\n",
    "pipeline = Pipeline(steps)\n",
    "\n",
    "predicted_labels = cross_val_predict(pipeline, training.full_content, training.label)\n",
    "pipeline_performance(training.label, predicted_labels)"
   ]
  },
  {
   "cell_type": "markdown",
   "metadata": {},
   "source": [
    "### Hyperparameters\n",
    "\n",
    "When we constructed our `LinearSVC` and `CountVectorizer` we used the default model parameters. These additonal parameters (hyperparameters) can be chosen to improve our classifier by performing a grid search. A grid search trains a classifier on every combination of the parameters and analyses their performance. We can then pick the best one."
   ]
  },
  {
   "cell_type": "code",
   "execution_count": 59,
   "metadata": {
    "collapsed": true
   },
   "outputs": [],
   "source": [
    "steps = (\n",
    "    ('vectorizer', TfidfVectorizer()),\n",
    "    ('classifier', LinearSVC())\n",
    ")\n",
    "\n",
    "pipeline = Pipeline(steps)"
   ]
  },
  {
   "cell_type": "markdown",
   "metadata": {},
   "source": [
    "Some parameters we can fiddle:\n",
    " - stop_words - we can ignore certain words (the, a, it,...). scikit-learn has an 'english' stop word vocabulary we can use\n",
    " - ngram_range - in the above example we split sentences into words. We could also try pairs of words.\n",
    " - C - the SVM has a property C that performs regularisation\n",
    " \n",
    "We set up our grid as a dictionary (note we must use the step names so that scikit learn knows which component we are fiddling with):"
   ]
  },
  {
   "cell_type": "code",
   "execution_count": 60,
   "metadata": {
    "collapsed": true
   },
   "outputs": [],
   "source": [
    "gs_params = {\n",
    "    'vectorizer__stop_words': ['english', None],\n",
    "    'vectorizer__ngram_range': [(1, 1), (1, 2), (2, 2)],\n",
    "    'vectorizer__preprocessor': [mask_integers, None],\n",
    "    'classifier__C': [0.001, 0.01, 0.1, 1, 10, 100]\n",
    "}"
   ]
  },
  {
   "cell_type": "code",
   "execution_count": null,
   "metadata": {
    "collapsed": true
   },
   "outputs": [],
   "source": [
    "from sklearn.model_selection import GridSearchCV\n",
    "gs = GridSearchCV(pipeline, gs_params, n_jobs=-1)\n",
    "gs.fit(training.full_content, training.label)"
   ]
  },
  {
   "cell_type": "code",
   "execution_count": null,
   "metadata": {
    "collapsed": true
   },
   "outputs": [],
   "source": [
    "print(gs.best_params_)\n",
    "print(gs.best_score_)"
   ]
  },
  {
   "cell_type": "markdown",
   "metadata": {},
   "source": [
    "## Testing generality\n",
    "\n",
    "So far we have selected our model based on the training data alone. It looks like our performance is excellent but we may have overfit to the training data. Does our classifier generalise well?\n",
    "\n",
    "In other words, do we perform as well on data that we have never seen before?"
   ]
  },
  {
   "cell_type": "code",
   "execution_count": null,
   "metadata": {
    "collapsed": true
   },
   "outputs": [],
   "source": [
    "pipeline = gs.best_estimator_\n",
    "predicted_labels = pipeline.predict(testing.full_content)\n",
    "pipeline_performance(testing.label, predicted_labels)"
   ]
  },
  {
   "cell_type": "markdown",
   "metadata": {},
   "source": [
    "HURRAH!"
   ]
  },
  {
   "cell_type": "markdown",
   "metadata": {},
   "source": [
    "# Going into the wild\n",
    "\n",
    "![hunger](https://ronanwills.files.wordpress.com/2015/06/vlcsnap-2015-06-11-23h05m49s76.png?w=625)\n",
    "\n",
    "An excellent feature of scikit-learn is that we can save our classifier using the pickle tool. We can load it later for\n",
    " - data analysis\n",
    " - data provenance\n",
    " - to share with somebody\n",
    " - to provide ML as a service (coming up)"
   ]
  },
  {
   "cell_type": "code",
   "execution_count": null,
   "metadata": {
    "collapsed": true
   },
   "outputs": [],
   "source": [
    "filename = 'classifiers/clickbait_svc_v1'"
   ]
  },
  {
   "cell_type": "code",
   "execution_count": null,
   "metadata": {
    "collapsed": true
   },
   "outputs": [],
   "source": [
    "import pickle\n",
    "with open(filename, 'wb') as f:\n",
    "    pickle.dump(pipeline, f)"
   ]
  },
  {
   "cell_type": "markdown",
   "metadata": {},
   "source": [
    "# Congratulations\n",
    "\n",
    "You've built a clickbait classifer. Head over to `advanced.ipynb` or look through the `webservice` directory to put your pipeline to use.\n",
    "\n",
    "![gatsby](https://media.tenor.co/images/78f5d1acd72e8a66257ea671b4aefd5f/tenor.gif)\n"
   ]
  },
  {
   "cell_type": "code",
   "execution_count": null,
   "metadata": {
    "collapsed": true
   },
   "outputs": [],
   "source": []
  }
 ],
 "metadata": {
  "kernelspec": {
   "display_name": "Python 3",
   "language": "python",
   "name": "python3"
  },
  "language_info": {
   "codemirror_mode": {
    "name": "ipython",
    "version": 3
   },
   "file_extension": ".py",
   "mimetype": "text/x-python",
   "name": "python",
   "nbconvert_exporter": "python",
   "pygments_lexer": "ipython3",
   "version": "3.6.0"
  }
 },
 "nbformat": 4,
 "nbformat_minor": 1
}
